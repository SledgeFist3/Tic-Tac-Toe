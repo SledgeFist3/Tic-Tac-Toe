{
 "cells": [
  {
   "cell_type": "code",
   "execution_count": 63,
   "metadata": {},
   "outputs": [],
   "source": [
    "def display_board(board):\n",
    "    print(board[7]+'|'+board[8]+'|'+board[9])\n",
    "    print(board[4]+'|'+board[5]+'|'+board[6])\n",
    "    print(board[1]+'|'+board[2]+'|'+board[3])"
   ]
  },
  {
   "cell_type": "code",
   "execution_count": 64,
   "metadata": {},
   "outputs": [
    {
     "name": "stdout",
     "output_type": "stream",
     "text": [
      "x|o|x\n",
      "o|x|o\n",
      "x|o|x\n"
     ]
    }
   ],
   "source": [
    "test_board = ['#','x','o','x','o','x','o','x','o','x']\n",
    "display_board(test_board)"
   ]
  },
  {
   "cell_type": "code",
   "execution_count": 74,
   "metadata": {},
   "outputs": [],
   "source": [
    "def player_input():\n",
    "    cond = False\n",
    "    while cond == False:\n",
    "        choice = input('Choice')\n",
    "        if choice == 'x':\n",
    "            cond = True\n",
    "            print('player1 is x')\n",
    "            player1 = 'x'\n",
    "        elif choice == 'o':\n",
    "            cond = True\n",
    "            print('Player1 is o')\n",
    "            player1 = 'o'\n",
    "        else:\n",
    "            print(\"Sorry that's valid please choice x or o\")\n",
    "            cond = False"
   ]
  },
  {
   "cell_type": "code",
   "execution_count": 78,
   "metadata": {},
   "outputs": [
    {
     "name": "stdout",
     "output_type": "stream",
     "text": [
      "Player1 is o\n"
     ]
    }
   ],
   "source": [
    "player_input()"
   ]
  },
  {
   "cell_type": "code",
   "execution_count": 89,
   "metadata": {},
   "outputs": [],
   "source": [
    "def place_marker(board,marker,position):\n",
    "    board[position] = marker"
   ]
  },
  {
   "cell_type": "code",
   "execution_count": 98,
   "metadata": {},
   "outputs": [
    {
     "name": "stdout",
     "output_type": "stream",
     "text": [
      "x|o|x\n",
      "o|x|o\n",
      "x|o|x\n"
     ]
    }
   ],
   "source": [
    "place_marker(test_board,'o',8)\n",
    "display_board(test_board)"
   ]
  },
  {
   "cell_type": "code",
   "execution_count": 101,
   "metadata": {},
   "outputs": [],
   "source": [
    "def win_check(board, mark):\n",
    "    if board[1] == board[2] == board[3]:\n",
    "        gameend = True\n",
    "    elif board[4] == board[5] == board[6]:\n",
    "        gameend = True\n",
    "    elif board[7] == board[8] == board[9]:\n",
    "        gameend = True\n",
    "    elif board[1] == board[5] == board[9]:\n",
    "        gameend = True\n",
    "    elif board[3] == board[5] == board[7]:\n",
    "        gameend = True\n",
    "    elif board[1] == board[4] == board[7]:\n",
    "        gameend = True\n",
    "    elif board[2] == board[5] == board[8]:\n",
    "        gameend = True\n",
    "    elif board[3] == board[6] == board[9]:\n",
    "        gameend = True\n",
    "    else:\n",
    "        pass"
   ]
  },
  {
   "cell_type": "code",
   "execution_count": 99,
   "metadata": {},
   "outputs": [],
   "source": [
    "win_check(test_board, 'x')"
   ]
  },
  {
   "cell_type": "code",
   "execution_count": 102,
   "metadata": {},
   "outputs": [],
   "source": [
    "import random"
   ]
  },
  {
   "cell_type": "code",
   "execution_count": null,
   "metadata": {},
   "outputs": [],
   "source": [
    "def choose_first():\n",
    "    "
   ]
  }
 ],
 "metadata": {
  "interpreter": {
   "hash": "f91d2754506df4681919c2d5f9b7cbc72f9e8264161bac4ec7b1600307af3ab8"
  },
  "kernelspec": {
   "display_name": "Python 3.9.7 ('base')",
   "language": "python",
   "name": "python3"
  },
  "language_info": {
   "codemirror_mode": {
    "name": "ipython",
    "version": 3
   },
   "file_extension": ".py",
   "mimetype": "text/x-python",
   "name": "python",
   "nbconvert_exporter": "python",
   "pygments_lexer": "ipython3",
   "version": "3.9.7"
  },
  "orig_nbformat": 4
 },
 "nbformat": 4,
 "nbformat_minor": 2
}
